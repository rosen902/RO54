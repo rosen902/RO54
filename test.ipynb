{
 "cells": [
  {
   "cell_type": "code",
   "execution_count": 9,
   "metadata": {},
   "outputs": [
    {
     "name": "stdout",
     "output_type": "stream",
     "text": [
      "00:13:ce:8f:77:43 00:13:ce:97:78:79\n"
     ]
    }
   ],
   "source": [
    "import csv\n",
    "\n",
    "with open('data.csv', mode='r') as csvfile:\n",
    "    reader = csv.reader(csvfile, delimiter=\",\")\n",
    "    first_row = next(reader)\n",
    "    print(first_row[4], first_row[6])\n"
   ]
  },
  {
   "cell_type": "code",
   "execution_count": null,
   "metadata": {},
   "outputs": [],
   "source": []
  }
 ],
 "metadata": {
  "kernelspec": {
   "display_name": ".venv",
   "language": "python",
   "name": "python3"
  },
  "language_info": {
   "codemirror_mode": {
    "name": "ipython",
    "version": 3
   },
   "file_extension": ".py",
   "mimetype": "text/x-python",
   "name": "python",
   "nbconvert_exporter": "python",
   "pygments_lexer": "ipython3",
   "version": "3.9.12"
  },
  "orig_nbformat": 4,
  "vscode": {
   "interpreter": {
    "hash": "c24f2cb5dfdf7f8cde47e74fcdc9bd154b4da766b454fb0cbedb4edd11dbaf7e"
   }
  }
 },
 "nbformat": 4,
 "nbformat_minor": 2
}
